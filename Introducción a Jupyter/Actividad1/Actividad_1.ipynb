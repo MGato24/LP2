{
  "metadata": {
    "language_info": {
      "codemirror_mode": {
        "name": "python",
        "version": 3
      },
      "file_extension": ".py",
      "mimetype": "text/x-python",
      "name": "python",
      "nbconvert_exporter": "python",
      "pygments_lexer": "ipython3",
      "version": "3.8"
    },
    "kernelspec": {
      "name": "python",
      "display_name": "Python (Pyodide)",
      "language": "python"
    }
  },
  "nbformat_minor": 4,
  "nbformat": 4,
  "cells": [
    {
      "cell_type": "markdown",
      "source": "## Generando algunos modelos para datos discretos\nEn biología molecular muchas situaciones involucran eventos de conteo: cuántos codones (formado por tres nucleótidos) tienen una estructura específica (por ejemplo ATG), cuántas lecturas de ADN coinciden con una de referencia, cuántos CG se observan en una secuencia de ADN. Estos recuentos nos dan variables discretas, en contraste a cantidades tales como masa e intensidad que se miden en escalas continuas. Si conocemos las reglas que siguen los mecanismos en estudio, e incluso si los resultados son aleatorios (al azar), podemos generar las probabilidades de cualquier evento que nos interese mediante cálculos y leyes de probabilidad estándares. Hoy aprenderemos a obtener las probabilidades de todos los resultados posibles de un modelo dado.\n\n### Un modelo teórico discreto:\n\n#### Ensayo de Bernoulli\nLanzar una moneda tiene dos resultados posibles. Este experimento simple, llamado ensayo de Bernoulli, se modela utilizando una variable aleatoria llamada Bernoulli $X$ con parámetro $p$, donde: $0≤p≤1$, y $X:0,1$ $$P(X=x)=p^{x}(1−p)^{1−x}$$\n\n#### Distribución Binomial\nEl número de éxitos en $n$ ensayos de Bernoulli con una probabilidad de éxito $p$ se denomina variable aleatoria binomial $X$ con parámetros $n$ y $p$, donde:  $X:0,1,...,n$ $$P(X=x)=\\binom{n}{x}p^{x}(1−p)^{n−x}$$\n\n1. Cree una función en Python con nombre \"binomial\" que dado los valores de  n  y  p , retorne las probabilidades para cada valor de la variable  X . Utilice la distribución Binomial para hallar estas probabilidades",
      "metadata": {}
    },
    {
      "cell_type": "code",
      "source": "import math\nimport numpy as np",
      "metadata": {
        "trusted": true
      },
      "execution_count": 3,
      "outputs": []
    },
    {
      "cell_type": "code",
      "source": "def Binomial(x,n,p):\n    return [math.comb(n, i)*p**i*(1-p)**(n-i) for i in x]",
      "metadata": {
        "trusted": true
      },
      "execution_count": 97,
      "outputs": []
    },
    {
      "cell_type": "code",
      "source": "x = [0,1,2,3,4,5,6,7,8]\nh = Binomial(x,8,0.25)\np=[]\nfor i in h:\n    p.append(round(i,3))\nprint(h)\nprint(p)\nsum(p)",
      "metadata": {
        "trusted": true
      },
      "execution_count": 109,
      "outputs": [
        {
          "name": "stdout",
          "text": "[0.1001129150390625, 0.2669677734375, 0.31146240234375, 0.2076416015625, 0.086517333984375, 0.0230712890625, 0.00384521484375, 0.0003662109375, 1.52587890625e-05]\n[0.1, 0.267, 0.311, 0.208, 0.087, 0.023, 0.004, 0.0, 0.0]\n",
          "output_type": "stream"
        },
        {
          "execution_count": 109,
          "output_type": "execute_result",
          "data": {
            "text/plain": "0.9999999999999999"
          },
          "metadata": {}
        }
      ]
    },
    {
      "cell_type": "markdown",
      "source": "2. Ahora vamos a simular el número de citosinas que habrían en 100 secuencias de ADN de 8 nucleótidos cada una si la probabilidad que un nucleótido cualquiera sea citosina es de 0.25. Utilice para esto la función:",
      "metadata": {}
    },
    {
      "cell_type": "code",
      "source": "#np.random.seed(1234)\nr = np.random.choice(x,100,p)\nr",
      "metadata": {
        "trusted": true
      },
      "execution_count": 106,
      "outputs": [
        {
          "execution_count": 106,
          "output_type": "execute_result",
          "data": {
            "text/plain": "array([6, 6, 3, 4, 3, 2, 8, 4, 5, 4, 1, 3, 8, 7, 7, 2, 1, 5, 3, 2, 0, 6,\n       4, 6, 0, 3, 7, 8, 8, 0, 4, 8, 2, 3, 1, 4, 8, 4, 3, 6, 3, 7, 1, 5,\n       1, 2, 8, 3, 8, 7, 6, 2, 1, 0, 6, 7, 4, 0, 8, 2, 2, 7, 3, 2, 3, 4,\n       2, 6, 2, 3, 5, 2, 8, 5, 6, 1, 8, 6, 6, 5, 7, 2, 7, 6, 0, 6, 4, 4,\n       1, 6, 4, 8, 0, 4, 7, 2, 7, 2, 1, 1])"
          },
          "metadata": {}
        }
      ]
    },
    {
      "cell_type": "code",
      "source": "a = []\ncont = 0\nfor i in x :\n    for j in r:\n        if i == j:\n            cont += 1\n        \n    a.append(cont)\n    cont = 0\na",
      "metadata": {
        "trusted": true
      },
      "execution_count": 108,
      "outputs": [
        {
          "execution_count": 108,
          "output_type": "execute_result",
          "data": {
            "text/plain": "[7, 10, 15, 12, 13, 6, 14, 11, 12]"
          },
          "metadata": {}
        }
      ]
    },
    {
      "cell_type": "markdown",
      "source": "## Trabajando con la data iris\nDescargue los datos de iris y escriba el código necesario que permita reportar:\n1. El promedio (o media) y desviación estándar del ancho del pétalo.\n2. La clase de flor que tiene la menor longitud del sépalo.\n3. Las estadísticas descriptivas del ancho del pétalo para la clase de flor \"iris-setosa\"",
      "metadata": {}
    },
    {
      "cell_type": "code",
      "source": "import pandas as pd\nfrom sklearn import datasets",
      "metadata": {
        "trusted": true
      },
      "execution_count": 139,
      "outputs": []
    },
    {
      "cell_type": "code",
      "source": "iris = datasets.load_iris()\niris_df=pd.DataFrame(iris.data)\niris_df['class']=iris.target\niris_df.columns=['Sepal_Length','Sepal_Width','Petal_Length','Petal_Width','Species']\niris_df.dropna(how=\"all\", inplace=True)\niris_df",
      "metadata": {
        "trusted": true
      },
      "execution_count": 153,
      "outputs": [
        {
          "execution_count": 153,
          "output_type": "execute_result",
          "data": {
            "text/plain": "     Sepal_Length  Sepal_Width  Petal_Length  Petal_Width  Species\n0             5.1          3.5           1.4          0.2        0\n1             4.9          3.0           1.4          0.2        0\n2             4.7          3.2           1.3          0.2        0\n3             4.6          3.1           1.5          0.2        0\n4             5.0          3.6           1.4          0.2        0\n..            ...          ...           ...          ...      ...\n145           6.7          3.0           5.2          2.3        2\n146           6.3          2.5           5.0          1.9        2\n147           6.5          3.0           5.2          2.0        2\n148           6.2          3.4           5.4          2.3        2\n149           5.9          3.0           5.1          1.8        2\n\n[150 rows x 5 columns]",
            "text/html": "<div>\n<style scoped>\n    .dataframe tbody tr th:only-of-type {\n        vertical-align: middle;\n    }\n\n    .dataframe tbody tr th {\n        vertical-align: top;\n    }\n\n    .dataframe thead th {\n        text-align: right;\n    }\n</style>\n<table border=\"1\" class=\"dataframe\">\n  <thead>\n    <tr style=\"text-align: right;\">\n      <th></th>\n      <th>Sepal_Length</th>\n      <th>Sepal_Width</th>\n      <th>Petal_Length</th>\n      <th>Petal_Width</th>\n      <th>Species</th>\n    </tr>\n  </thead>\n  <tbody>\n    <tr>\n      <th>0</th>\n      <td>5.1</td>\n      <td>3.5</td>\n      <td>1.4</td>\n      <td>0.2</td>\n      <td>0</td>\n    </tr>\n    <tr>\n      <th>1</th>\n      <td>4.9</td>\n      <td>3.0</td>\n      <td>1.4</td>\n      <td>0.2</td>\n      <td>0</td>\n    </tr>\n    <tr>\n      <th>2</th>\n      <td>4.7</td>\n      <td>3.2</td>\n      <td>1.3</td>\n      <td>0.2</td>\n      <td>0</td>\n    </tr>\n    <tr>\n      <th>3</th>\n      <td>4.6</td>\n      <td>3.1</td>\n      <td>1.5</td>\n      <td>0.2</td>\n      <td>0</td>\n    </tr>\n    <tr>\n      <th>4</th>\n      <td>5.0</td>\n      <td>3.6</td>\n      <td>1.4</td>\n      <td>0.2</td>\n      <td>0</td>\n    </tr>\n    <tr>\n      <th>...</th>\n      <td>...</td>\n      <td>...</td>\n      <td>...</td>\n      <td>...</td>\n      <td>...</td>\n    </tr>\n    <tr>\n      <th>145</th>\n      <td>6.7</td>\n      <td>3.0</td>\n      <td>5.2</td>\n      <td>2.3</td>\n      <td>2</td>\n    </tr>\n    <tr>\n      <th>146</th>\n      <td>6.3</td>\n      <td>2.5</td>\n      <td>5.0</td>\n      <td>1.9</td>\n      <td>2</td>\n    </tr>\n    <tr>\n      <th>147</th>\n      <td>6.5</td>\n      <td>3.0</td>\n      <td>5.2</td>\n      <td>2.0</td>\n      <td>2</td>\n    </tr>\n    <tr>\n      <th>148</th>\n      <td>6.2</td>\n      <td>3.4</td>\n      <td>5.4</td>\n      <td>2.3</td>\n      <td>2</td>\n    </tr>\n    <tr>\n      <th>149</th>\n      <td>5.9</td>\n      <td>3.0</td>\n      <td>5.1</td>\n      <td>1.8</td>\n      <td>2</td>\n    </tr>\n  </tbody>\n</table>\n<p>150 rows × 5 columns</p>\n</div>"
          },
          "metadata": {}
        }
      ]
    },
    {
      "cell_type": "code",
      "source": "col_names = ['Sepal_Length','Sepal_Width','Petal_Length','Petal_Width','Species']\niris = pd.read_csv(\"iris.data\", names = col_names)\niris",
      "metadata": {
        "trusted": true
      },
      "execution_count": 154,
      "outputs": [
        {
          "execution_count": 154,
          "output_type": "execute_result",
          "data": {
            "text/plain": "     Sepal_Length  Sepal_Width  Petal_Length  Petal_Width         Species\n0             5.1          3.5           1.4          0.2     Iris-setosa\n1             4.9          3.0           1.4          0.2     Iris-setosa\n2             4.7          3.2           1.3          0.2     Iris-setosa\n3             4.6          3.1           1.5          0.2     Iris-setosa\n4             5.0          3.6           1.4          0.2     Iris-setosa\n..            ...          ...           ...          ...             ...\n145           6.7          3.0           5.2          2.3  Iris-virginica\n146           6.3          2.5           5.0          1.9  Iris-virginica\n147           6.5          3.0           5.2          2.0  Iris-virginica\n148           6.2          3.4           5.4          2.3  Iris-virginica\n149           5.9          3.0           5.1          1.8  Iris-virginica\n\n[150 rows x 5 columns]",
            "text/html": "<div>\n<style scoped>\n    .dataframe tbody tr th:only-of-type {\n        vertical-align: middle;\n    }\n\n    .dataframe tbody tr th {\n        vertical-align: top;\n    }\n\n    .dataframe thead th {\n        text-align: right;\n    }\n</style>\n<table border=\"1\" class=\"dataframe\">\n  <thead>\n    <tr style=\"text-align: right;\">\n      <th></th>\n      <th>Sepal_Length</th>\n      <th>Sepal_Width</th>\n      <th>Petal_Length</th>\n      <th>Petal_Width</th>\n      <th>Species</th>\n    </tr>\n  </thead>\n  <tbody>\n    <tr>\n      <th>0</th>\n      <td>5.1</td>\n      <td>3.5</td>\n      <td>1.4</td>\n      <td>0.2</td>\n      <td>Iris-setosa</td>\n    </tr>\n    <tr>\n      <th>1</th>\n      <td>4.9</td>\n      <td>3.0</td>\n      <td>1.4</td>\n      <td>0.2</td>\n      <td>Iris-setosa</td>\n    </tr>\n    <tr>\n      <th>2</th>\n      <td>4.7</td>\n      <td>3.2</td>\n      <td>1.3</td>\n      <td>0.2</td>\n      <td>Iris-setosa</td>\n    </tr>\n    <tr>\n      <th>3</th>\n      <td>4.6</td>\n      <td>3.1</td>\n      <td>1.5</td>\n      <td>0.2</td>\n      <td>Iris-setosa</td>\n    </tr>\n    <tr>\n      <th>4</th>\n      <td>5.0</td>\n      <td>3.6</td>\n      <td>1.4</td>\n      <td>0.2</td>\n      <td>Iris-setosa</td>\n    </tr>\n    <tr>\n      <th>...</th>\n      <td>...</td>\n      <td>...</td>\n      <td>...</td>\n      <td>...</td>\n      <td>...</td>\n    </tr>\n    <tr>\n      <th>145</th>\n      <td>6.7</td>\n      <td>3.0</td>\n      <td>5.2</td>\n      <td>2.3</td>\n      <td>Iris-virginica</td>\n    </tr>\n    <tr>\n      <th>146</th>\n      <td>6.3</td>\n      <td>2.5</td>\n      <td>5.0</td>\n      <td>1.9</td>\n      <td>Iris-virginica</td>\n    </tr>\n    <tr>\n      <th>147</th>\n      <td>6.5</td>\n      <td>3.0</td>\n      <td>5.2</td>\n      <td>2.0</td>\n      <td>Iris-virginica</td>\n    </tr>\n    <tr>\n      <th>148</th>\n      <td>6.2</td>\n      <td>3.4</td>\n      <td>5.4</td>\n      <td>2.3</td>\n      <td>Iris-virginica</td>\n    </tr>\n    <tr>\n      <th>149</th>\n      <td>5.9</td>\n      <td>3.0</td>\n      <td>5.1</td>\n      <td>1.8</td>\n      <td>Iris-virginica</td>\n    </tr>\n  </tbody>\n</table>\n<p>150 rows × 5 columns</p>\n</div>"
          },
          "metadata": {}
        }
      ]
    }
  ]
}