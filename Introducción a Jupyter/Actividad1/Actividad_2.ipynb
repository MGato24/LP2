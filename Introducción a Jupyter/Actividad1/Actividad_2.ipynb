{
  "metadata": {
    "language_info": {
      "codemirror_mode": {
        "name": "python",
        "version": 3
      },
      "file_extension": ".py",
      "mimetype": "text/x-python",
      "name": "python",
      "nbconvert_exporter": "python",
      "pygments_lexer": "ipython3",
      "version": "3.8"
    },
    "kernelspec": {
      "name": "python",
      "display_name": "Python (Pyodide)",
      "language": "python"
    }
  },
  "nbformat_minor": 4,
  "nbformat": 4,
  "cells": [
    {
      "cell_type": "markdown",
      "source": "## <span style=\"color: rgb(0, 100, 0)\">DISEÑO COMPLETAMENTE AL AZAR</span>\n<p style = \"color: rgb(0, 0, 255)\">El diseño completamente al azar es un prueba basada en el análisis de varianza, en donde la varianza total se descompone en la “varianza de los tratamientos” y la “varianza del error”.</p>\n\n### **Modelo Lineal Aditivo**\n\n$$y_{ij}=u+t_{i}+E_{ij}$$\n\n### **Análisis de Varianza**\n| Fuente de variación |  GL |    SC   |           CM          |            F            |\n|:-------------------:|:---:|:-------:|:---------------------:|:-----------------------:|\n| Tratamientos        | t-1 |  SC(T)  | $$\\frac{SC(T)}{t-1}$$ | $$\\frac{CM(T)}{CM(E)}$$ |\n| Error Exp.          | n-t |  SC(E)  | $$\\frac{SC(E)}{n-t}$$ |                         |\n| Total               | n-1 | SC(tot) |                       |                         |\n\n$donde:$\n\n$n=n_1+n_2+n_3+...+n_t$ $$F_{cal}=\\frac{CM(T)}{CM(E)}\\sim F_{(t-1)(n-t)}$$\n\n### <span style=\"color: rgb(0, 128, 0)\">Hipótesis:</span>\n$H_0:t_1=t_2=t_3=0$\n\n$H1:$ al menos uno es diferente\n\n1. Escribir una función con el nombre de **anva** que tenga como parámetros de entrada los valores para: SC(T), SC(E), t y n; y retorne una lista o diccionario con los elementos de la tabla: Análisis de varianza. Por ejemplo:",
      "metadata": {}
    },
    {
      "cell_type": "code",
      "source": "def anva(SCT,SCE,t,n):\n    return [[\"Tratamientos\", t-1, SCT, round(SCT/(t-1),2), round((SCT/(t-1))/(SCE/(n-t)),2)],\n            [\"Error Exp.\", n-t, SCE, SCE/(n-t)], \n            [\"Total\", n-1]]",
      "metadata": {
        "trusted": true
      },
      "execution_count": 3,
      "outputs": []
    },
    {
      "cell_type": "code",
      "source": "anva(35.6,1.4,4,12)",
      "metadata": {
        "trusted": true
      },
      "execution_count": 4,
      "outputs": [
        {
          "execution_count": 4,
          "output_type": "execute_result",
          "data": {
            "text/plain": "[['Tratamientos', 3, 35.6, 11.87, 67.81],\n ['Error Exp.', 8, 1.4, 0.175],\n ['Total', 11]]"
          },
          "metadata": {}
        }
      ]
    },
    {
      "cell_type": "markdown",
      "source": "2. Cargar el archivo: ***hcvdat0.csv*** y agregar un registro o fila adicional (616) al final de los datos con la siguiente información:\n\nCategory: 0=Blood Donor, Age: 80, Sex: m, ALB=38.5, ALP=52.5, ALT=7.7, AST=22.1, BIL=7.5, CHE=6.93, CHOL=3.23, CREA=106, GGT=12.1, PROT=90",
      "metadata": {}
    },
    {
      "cell_type": "code",
      "source": "import pandas as pd",
      "metadata": {
        "trusted": true
      },
      "execution_count": 6,
      "outputs": []
    },
    {
      "cell_type": "code",
      "source": "data = pd.read_csv(\"hcvdat0.csv\")\ndata.head()",
      "metadata": {
        "trusted": true
      },
      "execution_count": 10,
      "outputs": [
        {
          "execution_count": 10,
          "output_type": "execute_result",
          "data": {
            "text/plain": "   Unnamed: 0       Category  Age Sex   ALB   ALP   ALT   AST   BIL    CHE  \\\n0           1  0=Blood Donor   32   m  38.5  52.5   7.7  22.1   7.5   6.93   \n1           2  0=Blood Donor   32   m  38.5  70.3  18.0  24.7   3.9  11.17   \n2           3  0=Blood Donor   32   m  46.9  74.7  36.2  52.6   6.1   8.84   \n3           4  0=Blood Donor   32   m  43.2  52.0  30.6  22.6  18.9   7.33   \n4           5  0=Blood Donor   32   m  39.2  74.1  32.6  24.8   9.6   9.15   \n\n   CHOL   CREA   GGT  PROT  \n0  3.23  106.0  12.1  69.0  \n1  4.80   74.0  15.6  76.5  \n2  5.20   86.0  33.2  79.3  \n3  4.74   80.0  33.8  75.7  \n4  4.32   76.0  29.9  68.7  ",
            "text/html": "<div>\n<style scoped>\n    .dataframe tbody tr th:only-of-type {\n        vertical-align: middle;\n    }\n\n    .dataframe tbody tr th {\n        vertical-align: top;\n    }\n\n    .dataframe thead th {\n        text-align: right;\n    }\n</style>\n<table border=\"1\" class=\"dataframe\">\n  <thead>\n    <tr style=\"text-align: right;\">\n      <th></th>\n      <th>Unnamed: 0</th>\n      <th>Category</th>\n      <th>Age</th>\n      <th>Sex</th>\n      <th>ALB</th>\n      <th>ALP</th>\n      <th>ALT</th>\n      <th>AST</th>\n      <th>BIL</th>\n      <th>CHE</th>\n      <th>CHOL</th>\n      <th>CREA</th>\n      <th>GGT</th>\n      <th>PROT</th>\n    </tr>\n  </thead>\n  <tbody>\n    <tr>\n      <th>0</th>\n      <td>1</td>\n      <td>0=Blood Donor</td>\n      <td>32</td>\n      <td>m</td>\n      <td>38.5</td>\n      <td>52.5</td>\n      <td>7.7</td>\n      <td>22.1</td>\n      <td>7.5</td>\n      <td>6.93</td>\n      <td>3.23</td>\n      <td>106.0</td>\n      <td>12.1</td>\n      <td>69.0</td>\n    </tr>\n    <tr>\n      <th>1</th>\n      <td>2</td>\n      <td>0=Blood Donor</td>\n      <td>32</td>\n      <td>m</td>\n      <td>38.5</td>\n      <td>70.3</td>\n      <td>18.0</td>\n      <td>24.7</td>\n      <td>3.9</td>\n      <td>11.17</td>\n      <td>4.80</td>\n      <td>74.0</td>\n      <td>15.6</td>\n      <td>76.5</td>\n    </tr>\n    <tr>\n      <th>2</th>\n      <td>3</td>\n      <td>0=Blood Donor</td>\n      <td>32</td>\n      <td>m</td>\n      <td>46.9</td>\n      <td>74.7</td>\n      <td>36.2</td>\n      <td>52.6</td>\n      <td>6.1</td>\n      <td>8.84</td>\n      <td>5.20</td>\n      <td>86.0</td>\n      <td>33.2</td>\n      <td>79.3</td>\n    </tr>\n    <tr>\n      <th>3</th>\n      <td>4</td>\n      <td>0=Blood Donor</td>\n      <td>32</td>\n      <td>m</td>\n      <td>43.2</td>\n      <td>52.0</td>\n      <td>30.6</td>\n      <td>22.6</td>\n      <td>18.9</td>\n      <td>7.33</td>\n      <td>4.74</td>\n      <td>80.0</td>\n      <td>33.8</td>\n      <td>75.7</td>\n    </tr>\n    <tr>\n      <th>4</th>\n      <td>5</td>\n      <td>0=Blood Donor</td>\n      <td>32</td>\n      <td>m</td>\n      <td>39.2</td>\n      <td>74.1</td>\n      <td>32.6</td>\n      <td>24.8</td>\n      <td>9.6</td>\n      <td>9.15</td>\n      <td>4.32</td>\n      <td>76.0</td>\n      <td>29.9</td>\n      <td>68.7</td>\n    </tr>\n  </tbody>\n</table>\n</div>"
          },
          "metadata": {}
        }
      ]
    },
    {
      "cell_type": "markdown",
      "source": "3. Con la infomarción agregada reportar las estadísticas descriptivas de la variable Age.",
      "metadata": {}
    },
    {
      "cell_type": "markdown",
      "source": "4. ¿Cuántas categorías diferentes tiene la(s) variable(s) categórica?",
      "metadata": {}
    }
  ]
}